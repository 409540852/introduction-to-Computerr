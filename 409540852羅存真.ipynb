{
  "nbformat": 4,
  "nbformat_minor": 0,
  "metadata": {
    "colab": {
      "provenance": [],
      "authorship_tag": "ABX9TyOG0K9UWFIpND1zraJs2eA5",
      "include_colab_link": true
    },
    "kernelspec": {
      "name": "python3",
      "display_name": "Python 3"
    },
    "language_info": {
      "name": "python"
    }
  },
  "cells": [
    {
      "cell_type": "markdown",
      "metadata": {
        "id": "view-in-github",
        "colab_type": "text"
      },
      "source": [
        "<a href=\"https://colab.research.google.com/github/409540852/introduction-to-Computerr/blob/main/409540852%E7%BE%85%E5%AD%98%E7%9C%9F.ipynb\" target=\"_parent\"><img src=\"https://colab.research.google.com/assets/colab-badge.svg\" alt=\"Open In Colab\"/></a>"
      ]
    },
    {
      "cell_type": "code",
      "source": [
        "score = int(input(\"請輸入分數\"))\n",
        "if(score>=60):\n",
        "  print(\"及格\")"
      ],
      "metadata": {
        "colab": {
          "base_uri": "https://localhost:8080/"
        },
        "id": "7mm_j8Lc93k-",
        "outputId": "570e5780-1d35-45ac-8bd8-d98a3115508f"
      },
      "execution_count": null,
      "outputs": [
        {
          "output_type": "stream",
          "name": "stdout",
          "text": [
            "請輸入分數70\n",
            "及格\n"
          ]
        }
      ]
    },
    {
      "cell_type": "code",
      "source": [
        "數學 = 60\n",
        "英文 = 70\n",
        "if 數學>英文:\n",
        "  print(\"數學比較高\")\n",
        "else:\n",
        "  print(\"英文比較高\")"
      ],
      "metadata": {
        "colab": {
          "base_uri": "https://localhost:8080/"
        },
        "id": "oiB0PnTSQBdB",
        "outputId": "b0746fc1-3e43-4994-f917-9bbe044e013a"
      },
      "execution_count": null,
      "outputs": [
        {
          "output_type": "stream",
          "name": "stdout",
          "text": [
            "英文比較高\n"
          ]
        }
      ]
    },
    {
      "cell_type": "code",
      "source": [
        "month = int(input())\n",
        "if(month >= 1 and month <= 12):\n",
        "  if(month==1 or month==2 or month==3):\n",
        "    print(\"{} is spring\".format(month))\n",
        "  elif(month==4 or month==5 or month==6):\n",
        "      print(\"{} is summer\".format(month))\n",
        "  elif(month==7 or month==8 or month==9):\n",
        "      print(\"{} is autumn\".format(month))\n",
        "  else:\n",
        "        print(\"{} is winter\".format(month))\n",
        "else:\n",
        "  print(\"Input Error\")"
      ],
      "metadata": {
        "id": "tTYYPpIKFDmP",
        "outputId": "f176d241-f839-4fa8-a2cc-55242e34d7d6",
        "colab": {
          "base_uri": "https://localhost:8080/"
        }
      },
      "execution_count": 1,
      "outputs": [
        {
          "output_type": "stream",
          "name": "stdout",
          "text": [
            "9\n",
            "9 is autumn\n"
          ]
        }
      ]
    }
  ]
}