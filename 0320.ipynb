{
  "nbformat": 4,
  "nbformat_minor": 0,
  "metadata": {
    "colab": {
      "provenance": [],
      "authorship_tag": "ABX9TyNLfPVgFbEJ6EGTbP6+fah+",
      "include_colab_link": true
    },
    "kernelspec": {
      "name": "python3",
      "display_name": "Python 3"
    },
    "language_info": {
      "name": "python"
    }
  },
  "cells": [
    {
      "cell_type": "markdown",
      "metadata": {
        "id": "view-in-github",
        "colab_type": "text"
      },
      "source": [
        "<a href=\"https://colab.research.google.com/github/409540852/introduction-to-Computerr/blob/main/0320.ipynb\" target=\"_parent\"><img src=\"https://colab.research.google.com/assets/colab-badge.svg\" alt=\"Open In Colab\"/></a>"
      ]
    },
    {
      "cell_type": "code",
      "execution_count": null,
      "metadata": {
        "colab": {
          "base_uri": "https://localhost:8080/"
        },
        "id": "g-dLp7ZzAR8z",
        "outputId": "47ed3650-a7cc-4ac1-bc71-30b8d92f4102"
      },
      "outputs": [
        {
          "output_type": "stream",
          "name": "stdout",
          "text": [
            "請輸入國文成績(整數):50\n",
            "請輸入英文成績(整數):60\n",
            "請輸入數學成績(整數)70\n",
            "您的總分為: 180\n"
          ]
        }
      ],
      "source": [
        "chi=int(input(\"請輸入國文成績(整數):\"))\n",
        "eng=int(input(\"請輸入英文成績(整數):\"))\n",
        "math=int(input(\"請輸入數學成績(整數)\"))\n",
        "total=chi+eng+math\n",
        "print(\"您的總分為: %3d\" % total )"
      ]
    },
    {
      "cell_type": "code",
      "source": [
        "上底=int(input('請輸入梯形上底高度:'))\n",
        "下底=int(input('請輸入梯形下底高度:'))\n",
        "高=int(input('請輸入梯形的高度:'))\n",
        "面積=(上底+下底)*高/2\n",
        "print(\"面積=(上底+下底)*高/2)\")"
      ],
      "metadata": {
        "colab": {
          "base_uri": "https://localhost:8080/"
        },
        "id": "zOeaQvgYLVyC",
        "outputId": "bb2acfa2-086a-47d3-ef74-4eacaa74f794"
      },
      "execution_count": 6,
      "outputs": [
        {
          "output_type": "stream",
          "name": "stdout",
          "text": [
            "請輸入梯形上底高度:3\n",
            "請輸入梯形下底高度:4\n",
            "請輸入梯形的高度:3\n",
            "面積=(上底+下底)*高/2)\n"
          ]
        }
      ]
    },
    {
      "cell_type": "code",
      "source": [
        "height_cm = float(input(\"請輸入您的身高(cm):\"))\n",
        "weight = float(input(\"請輸入您的體重(kg)\"))\n",
        "height_m = height_cm / 100\n",
        "bmi = weight / (height_m ** 2)\n",
        "print(\"BMI為: %3.2f \" % bmi)"
      ],
      "metadata": {
        "colab": {
          "base_uri": "https://localhost:8080/"
        },
        "id": "80QiLOxdMsc0",
        "outputId": "b58a529b-e4fb-45d1-de20-5fe1e8c90862"
      },
      "execution_count": null,
      "outputs": [
        {
          "output_type": "stream",
          "name": "stdout",
          "text": [
            "請輸入您的身高(cm):163\n",
            "請輸入您的體重(kg)56\n",
            "BMI為: 21.08 \n"
          ]
        }
      ]
    }
  ]
}