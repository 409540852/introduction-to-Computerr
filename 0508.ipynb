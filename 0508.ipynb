{
  "nbformat": 4,
  "nbformat_minor": 0,
  "metadata": {
    "colab": {
      "provenance": [],
      "authorship_tag": "ABX9TyMsBADnF0bmScfEYd3uLZ6P",
      "include_colab_link": true
    },
    "kernelspec": {
      "name": "python3",
      "display_name": "Python 3"
    },
    "language_info": {
      "name": "python"
    }
  },
  "cells": [
    {
      "cell_type": "markdown",
      "metadata": {
        "id": "view-in-github",
        "colab_type": "text"
      },
      "source": [
        "<a href=\"https://colab.research.google.com/github/409540852/introduction-to-Computerr/blob/main/0508.ipynb\" target=\"_parent\"><img src=\"https://colab.research.google.com/assets/colab-badge.svg\" alt=\"Open In Colab\"/></a>"
      ]
    },
    {
      "cell_type": "code",
      "source": [
        "temperature = float(input(\"請輸入體溫（攝氏度）：\"))\n",
        "\n",
        "if temperature >= 37.5:\n",
        "    print(\"體溫過高!\")\n",
        "elif 37 <= temperature <= 37.4:\n",
        "    print(\"體溫略高!\")\n",
        "elif 34 <= temperature <= 36.9:\n",
        "    print(\"體溫正常!\")\n",
        "elif temperature < 34:\n",
        "    print(\"體溫異常，請重新測量。\")\n",
        "else:\n",
        "    print(\"請輸入有效的體溫。\")"
      ],
      "metadata": {
        "colab": {
          "base_uri": "https://localhost:8080/"
        },
        "id": "K9bzSsyW90RA",
        "outputId": "ab6bb0d1-39f9-48b4-83e2-6f1cfb79c504"
      },
      "execution_count": 2,
      "outputs": [
        {
          "output_type": "stream",
          "name": "stdout",
          "text": [
            "請輸入體溫（攝氏度）：36.7\n",
            "體溫正常!\n"
          ]
        }
      ]
    },
    {
      "cell_type": "code",
      "source": [
        "score = float(input(\"請輸入成績：\"))\n",
        "\n",
        "if score >= 90:\n",
        "    print(\"A\")\n",
        "elif 80 <= score <= 89:\n",
        "    print(\"B\")\n",
        "elif 70 <= score <= 79:\n",
        "    print(\"C\")\n",
        "elif 60 <= score <= 69:\n",
        "    print(\"D\")\n",
        "else:\n",
        "    print(\"E\")"
      ],
      "metadata": {
        "colab": {
          "base_uri": "https://localhost:8080/"
        },
        "id": "J_8mDmIh-X_e",
        "outputId": "dc583335-5201-4450-c039-607234ed9b30"
      },
      "execution_count": 4,
      "outputs": [
        {
          "output_type": "stream",
          "name": "stdout",
          "text": [
            "請輸入成績：50\n",
            "E\n"
          ]
        }
      ]
    },
    {
      "cell_type": "code",
      "source": [
        "month = int(input(\"請輸入月份（1-12）：\"))\n",
        "\n",
        "if month in [3, 4, 5]:\n",
        "    print(\"春天\")\n",
        "elif month in [6, 7, 8]:\n",
        "    print(\"夏天\")\n",
        "elif month in [9, 10, 11]:\n",
        "    print(\"秋天\")\n",
        "elif month in [12, 1, 2]:\n",
        "    print(\"冬天\")\n",
        "else:\n",
        "    print(\"月份不在範圍內\")"
      ],
      "metadata": {
        "colab": {
          "base_uri": "https://localhost:8080/"
        },
        "id": "rFEt7FyC_tBY",
        "outputId": "905987bb-168e-47c2-da67-922f65066150"
      },
      "execution_count": 6,
      "outputs": [
        {
          "output_type": "stream",
          "name": "stdout",
          "text": [
            "請輸入月份（1-12）：9\n",
            "秋天\n"
          ]
        }
      ]
    }
  ]
}